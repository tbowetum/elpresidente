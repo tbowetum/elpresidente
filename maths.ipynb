{
  "nbformat": 4,
  "nbformat_minor": 0,
  "metadata": {
    "colab": {
      "name": "maths.ipynb",
      "provenance": [],
      "collapsed_sections": [],
      "include_colab_link": true
    },
    "kernelspec": {
      "name": "ir",
      "display_name": "R"
    },
    "language_info": {
      "name": "R"
    }
  },
  "cells": [
    {
      "cell_type": "markdown",
      "metadata": {
        "id": "view-in-github",
        "colab_type": "text"
      },
      "source": [
        "<a href=\"https://colab.research.google.com/github/tbowetum/elpresidente/blob/master/maths.ipynb\" target=\"_parent\"><img src=\"https://colab.research.google.com/assets/colab-badge.svg\" alt=\"Open In Colab\"/></a>"
      ]
    },
    {
      "cell_type": "markdown",
      "source": [
        "<a name=\"Summary\"></a>\n",
        "# Summary\n",
        "\n",
        "[Exercice1](#e1)\n",
        "\n",
        "[Exercice2](#e2)\n",
        "\n",
        "[Exercice3](#e3)\n",
        "\n",
        "[Exercice6](#e6)\n"
      ],
      "metadata": {
        "id": "NOQky8dheKcf"
      }
    },
    {
      "cell_type": "code",
      "source": [
        "install.packages(\"expm\")\n",
        "install.packages(\"rootSolve\")\n",
        "install.packages(\"pracma\")\n",
        "install.packages(\"numDeriv\")"
      ],
      "metadata": {
        "colab": {
          "base_uri": "https://localhost:8080/"
        },
        "id": "LJnoXrP0fGI7",
        "outputId": "7fe1ab1e-e7db-46bc-f935-66af8e9ce957"
      },
      "execution_count": 2,
      "outputs": [
        {
          "output_type": "stream",
          "name": "stderr",
          "text": [
            "Installing package into ‘/usr/local/lib/R/site-library’\n",
            "(as ‘lib’ is unspecified)\n",
            "\n",
            "Installing package into ‘/usr/local/lib/R/site-library’\n",
            "(as ‘lib’ is unspecified)\n",
            "\n",
            "Installing package into ‘/usr/local/lib/R/site-library’\n",
            "(as ‘lib’ is unspecified)\n",
            "\n",
            "Installing package into ‘/usr/local/lib/R/site-library’\n",
            "(as ‘lib’ is unspecified)\n",
            "\n"
          ]
        }
      ]
    },
    {
      "cell_type": "markdown",
      "source": [
        "**Exercice 1**\n",
        "<a name=\"e1\"></a>\n",
        "\n",
        "[To Summary](#Summary)"
      ],
      "metadata": {
        "id": "dDVzTbthQHTj"
      }
    },
    {
      "cell_type": "code",
      "source": [
        "#install.packages(\"expm\")\n",
        "library(expm)\n",
        "\n",
        "un1 <- (c(1,0,2))\n",
        "vn1 <- (c(0,-1,0))\n",
        "wn1 <- (c(2,0,1))\n",
        "\n",
        "A <- rbind(un1,vn1,wn1)\n",
        "\n",
        "print(\"Calcul valeurs, et vecteurs propres\")\n",
        "vp = round(eigen(A)$values) \n",
        "\n",
        "vec = eigen(A)$vectors\n",
        "vp\n",
        "vec\n",
        "\n",
        "print(\"Matrice diagonale D\")\n",
        "D = diag(vp)\n",
        "D\n",
        "\n",
        "print(\"P et P-1\")\n",
        "P = rbind(vec)\n",
        "P\n",
        "\n",
        "invP = solve(P)\n",
        "print('inv')\n",
        "invP\n",
        "\n",
        "u0 <- 1\n",
        "v0 <- 2\n",
        "w0 <- 3\n",
        "\n",
        "X0 = c(u0,v0,w0)\n",
        "\n",
        "X1 = (P%*%(D%^%1)%*%invP)%*%X0\n",
        "\n",
        "print(\"Calcul final P D^n P-1\")\n",
        "\n",
        "n=2\n",
        "Mn = P%*%(D%^%n)%*%invP\n",
        "\n",
        "print(Mn)\n",
        "for (n in 1:5)\n",
        "  \n",
        "  print((P%*%(D%^%n)%*%invP)%*%X0)\n",
        "\n",
        "\n",
        "\n"
      ],
      "metadata": {
        "colab": {
          "base_uri": "https://localhost:8080/",
          "height": 1000
        },
        "id": "OlU4UYBMQFGQ",
        "outputId": "f4e0b14b-0328-416d-80ed-654bfde10d15"
      },
      "execution_count": 4,
      "outputs": [
        {
          "output_type": "stream",
          "name": "stdout",
          "text": [
            "[1] \"Calcul valeurs, et vecteurs propres\"\n"
          ]
        },
        {
          "output_type": "display_data",
          "data": {
            "text/plain": [
              "[1]  3 -1 -1"
            ],
            "text/latex": "\\begin{enumerate*}\n\\item 3\n\\item -1\n\\item -1\n\\end{enumerate*}\n",
            "text/markdown": "1. 3\n2. -1\n3. -1\n\n\n",
            "text/html": [
              "<style>\n",
              ".list-inline {list-style: none; margin:0; padding: 0}\n",
              ".list-inline>li {display: inline-block}\n",
              ".list-inline>li:not(:last-child)::after {content: \"\\00b7\"; padding: 0 .5ex}\n",
              "</style>\n",
              "<ol class=list-inline><li>3</li><li>-1</li><li>-1</li></ol>\n"
            ]
          },
          "metadata": {}
        },
        {
          "output_type": "display_data",
          "data": {
            "text/plain": [
              "     [,1]       [,2]       [,3]\n",
              "[1,] -0.7071068  0.7071068  0  \n",
              "[2,]  0.0000000  0.0000000 -1  \n",
              "[3,] -0.7071068 -0.7071068  0  "
            ],
            "text/latex": "A matrix: 3 × 3 of type dbl\n\\begin{tabular}{lll}\n\t -0.7071068 &  0.7071068 &  0\\\\\n\t  0.0000000 &  0.0000000 & -1\\\\\n\t -0.7071068 & -0.7071068 &  0\\\\\n\\end{tabular}\n",
            "text/markdown": "\nA matrix: 3 × 3 of type dbl\n\n| -0.7071068 |  0.7071068 |  0 |\n|  0.0000000 |  0.0000000 | -1 |\n| -0.7071068 | -0.7071068 |  0 |\n\n",
            "text/html": [
              "<table class=\"dataframe\">\n",
              "<caption>A matrix: 3 × 3 of type dbl</caption>\n",
              "<tbody>\n",
              "\t<tr><td>-0.7071068</td><td> 0.7071068</td><td> 0</td></tr>\n",
              "\t<tr><td> 0.0000000</td><td> 0.0000000</td><td>-1</td></tr>\n",
              "\t<tr><td>-0.7071068</td><td>-0.7071068</td><td> 0</td></tr>\n",
              "</tbody>\n",
              "</table>\n"
            ]
          },
          "metadata": {}
        },
        {
          "output_type": "stream",
          "name": "stdout",
          "text": [
            "[1] \"Matrice diagonale D\"\n"
          ]
        },
        {
          "output_type": "display_data",
          "data": {
            "text/plain": [
              "     [,1] [,2] [,3]\n",
              "[1,] 3     0    0  \n",
              "[2,] 0    -1    0  \n",
              "[3,] 0     0   -1  "
            ],
            "text/latex": "A matrix: 3 × 3 of type dbl\n\\begin{tabular}{lll}\n\t 3 &  0 &  0\\\\\n\t 0 & -1 &  0\\\\\n\t 0 &  0 & -1\\\\\n\\end{tabular}\n",
            "text/markdown": "\nA matrix: 3 × 3 of type dbl\n\n| 3 |  0 |  0 |\n| 0 | -1 |  0 |\n| 0 |  0 | -1 |\n\n",
            "text/html": [
              "<table class=\"dataframe\">\n",
              "<caption>A matrix: 3 × 3 of type dbl</caption>\n",
              "<tbody>\n",
              "\t<tr><td>3</td><td> 0</td><td> 0</td></tr>\n",
              "\t<tr><td>0</td><td>-1</td><td> 0</td></tr>\n",
              "\t<tr><td>0</td><td> 0</td><td>-1</td></tr>\n",
              "</tbody>\n",
              "</table>\n"
            ]
          },
          "metadata": {}
        },
        {
          "output_type": "stream",
          "name": "stdout",
          "text": [
            "[1] \"P et P-1\"\n"
          ]
        },
        {
          "output_type": "display_data",
          "data": {
            "text/plain": [
              "     [,1]       [,2]       [,3]\n",
              "[1,] -0.7071068  0.7071068  0  \n",
              "[2,]  0.0000000  0.0000000 -1  \n",
              "[3,] -0.7071068 -0.7071068  0  "
            ],
            "text/latex": "A matrix: 3 × 3 of type dbl\n\\begin{tabular}{lll}\n\t -0.7071068 &  0.7071068 &  0\\\\\n\t  0.0000000 &  0.0000000 & -1\\\\\n\t -0.7071068 & -0.7071068 &  0\\\\\n\\end{tabular}\n",
            "text/markdown": "\nA matrix: 3 × 3 of type dbl\n\n| -0.7071068 |  0.7071068 |  0 |\n|  0.0000000 |  0.0000000 | -1 |\n| -0.7071068 | -0.7071068 |  0 |\n\n",
            "text/html": [
              "<table class=\"dataframe\">\n",
              "<caption>A matrix: 3 × 3 of type dbl</caption>\n",
              "<tbody>\n",
              "\t<tr><td>-0.7071068</td><td> 0.7071068</td><td> 0</td></tr>\n",
              "\t<tr><td> 0.0000000</td><td> 0.0000000</td><td>-1</td></tr>\n",
              "\t<tr><td>-0.7071068</td><td>-0.7071068</td><td> 0</td></tr>\n",
              "</tbody>\n",
              "</table>\n"
            ]
          },
          "metadata": {}
        },
        {
          "output_type": "stream",
          "name": "stdout",
          "text": [
            "[1] \"inv\"\n"
          ]
        },
        {
          "output_type": "display_data",
          "data": {
            "text/plain": [
              "     [,1]       [,2] [,3]      \n",
              "[1,] -0.7071068  0   -0.7071068\n",
              "[2,]  0.7071068  0   -0.7071068\n",
              "[3,]  0.0000000 -1    0.0000000"
            ],
            "text/latex": "A matrix: 3 × 3 of type dbl\n\\begin{tabular}{lll}\n\t -0.7071068 &  0 & -0.7071068\\\\\n\t  0.7071068 &  0 & -0.7071068\\\\\n\t  0.0000000 & -1 &  0.0000000\\\\\n\\end{tabular}\n",
            "text/markdown": "\nA matrix: 3 × 3 of type dbl\n\n| -0.7071068 |  0 | -0.7071068 |\n|  0.7071068 |  0 | -0.7071068 |\n|  0.0000000 | -1 |  0.0000000 |\n\n",
            "text/html": [
              "<table class=\"dataframe\">\n",
              "<caption>A matrix: 3 × 3 of type dbl</caption>\n",
              "<tbody>\n",
              "\t<tr><td>-0.7071068</td><td> 0</td><td>-0.7071068</td></tr>\n",
              "\t<tr><td> 0.7071068</td><td> 0</td><td>-0.7071068</td></tr>\n",
              "\t<tr><td> 0.0000000</td><td>-1</td><td> 0.0000000</td></tr>\n",
              "</tbody>\n",
              "</table>\n"
            ]
          },
          "metadata": {}
        },
        {
          "output_type": "stream",
          "name": "stdout",
          "text": [
            "[1] \"Calcul final P D^n P-1\"\n",
            "     [,1] [,2] [,3]\n",
            "[1,]    5    0    4\n",
            "[2,]    0    1    0\n",
            "[3,]    4    0    5\n",
            "     [,1]\n",
            "[1,]    7\n",
            "[2,]   -2\n",
            "[3,]    5\n",
            "     [,1]\n",
            "[1,]   17\n",
            "[2,]    2\n",
            "[3,]   19\n",
            "     [,1]\n",
            "[1,]   55\n",
            "[2,]   -2\n",
            "[3,]   53\n",
            "     [,1]\n",
            "[1,]  161\n",
            "[2,]    2\n",
            "[3,]  163\n",
            "     [,1]\n",
            "[1,]  487\n",
            "[2,]   -2\n",
            "[3,]  485\n"
          ]
        }
      ]
    },
    {
      "cell_type": "markdown",
      "source": [
        "**Exercice 6**\n",
        "<a name=\"e6\"></a>\n",
        "\n",
        "[To Summary](#Summary)"
      ],
      "metadata": {
        "id": "ytLcS6ypRYji"
      }
    },
    {
      "cell_type": "code",
      "source": [
        "#install.packages(\"Ryacas\")\n",
        "#install.packages(\"rSymPy\")\n",
        "#library(Ryacas)"
      ],
      "metadata": {
        "id": "8GHeNkTZdpAJ"
      },
      "execution_count": 5,
      "outputs": []
    },
    {
      "cell_type": "code",
      "source": [
        "n = 1\n",
        "\n",
        "f = function(x) {\n",
        "  x ^ 2 * (log(x) ^ n)\n",
        "}\n",
        "\n",
        "for(n in (1:10)){\n",
        "  I = integrate(f, lower = 1, upper = exp(1))$value\n",
        "  print(I)\n",
        "}\n",
        "\n",
        "\n"
      ],
      "metadata": {
        "id": "Ulhfhl85dsl_",
        "colab": {
          "base_uri": "https://localhost:8080/"
        },
        "outputId": "11b61b79-1f25-4946-dd9c-5f808e39fbb4"
      },
      "execution_count": 6,
      "outputs": [
        {
          "output_type": "stream",
          "name": "stdout",
          "text": [
            "[1] 4.574564\n",
            "[1] 3.64547\n",
            "[1] 3.049709\n",
            "[1] 2.6289\n",
            "[1] 2.313679\n",
            "[1] 2.067821\n",
            "[1] 1.870263\n",
            "[1] 1.707812\n",
            "[1] 1.571743\n",
            "[1] 1.456035\n"
          ]
        }
      ]
    },
    {
      "cell_type": "code",
      "source": [
        "#Après quelques combats avec les packages R, nous allons nous résoudre à estimer la limite, plutôt que la calculer.\n",
        "#Pour cela, nous allons faire une boucle, allant vers de grands nombres, puis nous testerons des valeurs élevées individuellement.\n",
        "\n",
        "\n",
        "for(n in (1:100)){\n",
        "  I = integrate(f, lower = 1, upper = exp(1))$value\n",
        "  print(I)\n",
        "}"
      ],
      "metadata": {
        "id": "cisshRc_LLRy",
        "colab": {
          "base_uri": "https://localhost:8080/"
        },
        "outputId": "58a946eb-12b5-4aab-9c56-cefbddd58726"
      },
      "execution_count": 7,
      "outputs": [
        {
          "output_type": "stream",
          "name": "stdout",
          "text": [
            "[1] 4.574564\n",
            "[1] 3.64547\n",
            "[1] 3.049709\n",
            "[1] 2.6289\n",
            "[1] 2.313679\n",
            "[1] 2.067821\n",
            "[1] 1.870263\n",
            "[1] 1.707812\n",
            "[1] 1.571743\n",
            "[1] 1.456035\n",
            "[1] 1.356385\n",
            "[1] 1.269637\n",
            "[1] 1.193417\n",
            "[1] 1.125902\n",
            "[1] 1.065671\n",
            "[1] 1.011599\n",
            "[1] 0.9627823\n",
            "[1] 0.9184853\n",
            "[1] 0.8781054\n",
            "[1] 0.8411428\n",
            "[1] 0.8071794\n",
            "[1] 0.7758631\n",
            "[1] 0.7468949\n",
            "[1] 0.7200194\n",
            "[1] 0.695017\n",
            "[1] 0.671698\n",
            "[1] 0.6498973\n",
            "[1] 0.629471\n",
            "[1] 0.6102928\n",
            "[1] 0.5922513\n",
            "[1] 0.5752484\n",
            "[1] 0.5591965\n",
            "[1] 0.5440179\n",
            "[1] 0.5296431\n",
            "[1] 0.5160098\n",
            "[1] 0.5030619\n",
            "[1] 0.490749\n",
            "[1] 0.4790253\n",
            "[1] 0.4678496\n",
            "[1] 0.4571842\n",
            "[1] 0.4469949\n",
            "[1] 0.4372505\n",
            "[1] 0.4279224\n",
            "[1] 0.4189844\n",
            "[1] 0.4104127\n",
            "[1] 0.402185\n",
            "[1] 0.3942811\n",
            "[1] 0.3866821\n",
            "[1] 0.3793709\n",
            "[1] 0.3723312\n",
            "[1] 0.3655483\n",
            "[1] 0.3590083\n",
            "[1] 0.3526985\n",
            "[1] 0.3466067\n",
            "[1] 0.3407221\n",
            "[1] 0.335034\n",
            "[1] 0.3295329\n",
            "[1] 0.3242097\n",
            "[1] 0.3190558\n",
            "[1] 0.3140633\n",
            "[1] 0.3092248\n",
            "[1] 0.3045332\n",
            "[1] 0.2999819\n",
            "[1] 0.2955648\n",
            "[1] 0.2912759\n",
            "[1] 0.2871098\n",
            "[1] 0.2830612\n",
            "[1] 0.2791253\n",
            "[1] 0.2752974\n",
            "[1] 0.2715731\n",
            "[1] 0.2679483\n",
            "[1] 0.2644191\n",
            "[1] 0.2609816\n",
            "[1] 0.2576324\n",
            "[1] 0.2543682\n",
            "[1] 0.2511856\n",
            "[1] 0.2480817\n",
            "[1] 0.2450537\n",
            "[1] 0.2420987\n",
            "[1] 0.2392141\n",
            "[1] 0.2363975\n",
            "[1] 0.2336465\n",
            "[1] 0.2309588\n",
            "[1] 0.2283323\n",
            "[1] 0.2257648\n",
            "[1] 0.2232545\n",
            "[1] 0.2207994\n",
            "[1] 0.2183977\n",
            "[1] 0.2160477\n",
            "[1] 0.2137478\n",
            "[1] 0.2114963\n",
            "[1] 0.2092918\n",
            "[1] 0.2071328\n",
            "[1] 0.2050179\n",
            "[1] 0.2029457\n",
            "[1] 0.2009151\n",
            "[1] 0.1989247\n",
            "[1] 0.1969733\n",
            "[1] 0.1950599\n",
            "[1] 0.1931833\n"
          ]
        }
      ]
    },
    {
      "cell_type": "code",
      "source": [
        "#Sur 100 itérations, il semble qu'on soit en décroissance, autours de 1.9. Testons pour des valeurs extrêmes:\n",
        "\n",
        "n = 100000\n",
        "I = integrate(f, lower = 1, upper = exp(1))$value\n",
        "print(I)\n",
        "#On tombe sur une valeur numérique proche de 0, jusqu'à faire monter davantage les valeurs.\n",
        "n = 100000000\n",
        "I = integrate(f, lower = 1, upper = exp(1))$value\n",
        "print(I)\n",
        " #Ici, nous avons un 0 ferme.\n",
        " #Cette méthode n'est pas forcément fiable, avec certaines fonctions qui ont une convergence spécifiques sur des extrêmes, mais nous donne bien un résultat stable ici."
      ],
      "metadata": {
        "colab": {
          "base_uri": "https://localhost:8080/"
        },
        "id": "VA7J2FTzLQ2D",
        "outputId": "bcb26cb4-9cc7-4776-8d72-f16f3ce5f30b"
      },
      "execution_count": 8,
      "outputs": [
        {
          "output_type": "stream",
          "name": "stdout",
          "text": [
            "[1] 5.532855e-32\n",
            "[1] 0\n"
          ]
        }
      ]
    },
    {
      "cell_type": "markdown",
      "source": [
        "**Exercice 2**\n",
        "<a name=\"e2\"></a>\n",
        "\n",
        "[To Summary](#Summary)"
      ],
      "metadata": {
        "id": "OyD0s4lqEmSd"
      }
    },
    {
      "cell_type": "code",
      "source": [
        "#1   MERCI JULIEN DAI POUR LE PACKAGE ❤\n",
        "#install.packages(\"rootSolve\")\n",
        "library(rootSolve) #Résolution de systèmes plus complexes\n",
        "\n",
        "#install.packages(\"pracma\")\n",
        "library(pracma)\n",
        "\n",
        "#install.packages(\"numDeriv\") #Grad + hessian\n",
        "library(numDeriv)\n",
        "f = expression(exp(x*y) - (exp(x)) + 2)  \n",
        "\n",
        "x1 = D(f,'x')\n",
        "x2 = D(f,'y') #Dérivées partielles  par x et y \n",
        "\n",
        "\n",
        "print(x1)\n",
        "print(x2)\n",
        "\n",
        "model=function(x){ \n",
        "    f1=exp(x[1] * x[2]) * x[2] - exp(x[1])\n",
        "    f2=exp(x[1] * x[2]) * x[1]\n",
        "    c(f1=f1,f2=f2) #Système, pour trouver les valeurs extrêmes en x et y\n",
        "} \n",
        "solution=multiroot(f=model, start=c(0,4)) #Trouve les racines\n",
        "solution\n",
        "\n",
        "#On a les $root en 0,1.\n",
        "\n",
        "#install.packages(\"pracma\")\n",
        "library(pracma)\n",
        "\n",
        "#install.packages(\"numDeriv\")\n",
        "library(numDeriv)\n",
        "\n",
        "f<- function(x) {\n",
        "  z <- x[1]; \n",
        "  y <- x[2]\n",
        "  rez <- (exp(z*y) - (exp(z)) + 2)\n",
        "  rez\n",
        "}\n",
        "\n",
        "print(\"grad : \")\n",
        "grad(f , c(0,1)) #Gradient pour vérification\n",
        "print(\"Hess : \")\n",
        "hessian(f, c(0,4)) #Hessienne, pour déterminer le status de notre point\n",
        "\n",
        "eigen(hessian(f, c(1,1,1)))\n",
        "#(0,1 est un point col)"
      ],
      "metadata": {
        "colab": {
          "base_uri": "https://localhost:8080/",
          "height": 1000
        },
        "id": "mNdN1zqXEg7i",
        "outputId": "dd50003c-7d46-455a-8ee9-874190fa5530"
      },
      "execution_count": 9,
      "outputs": [
        {
          "output_type": "stream",
          "name": "stderr",
          "text": [
            "\n",
            "Attaching package: ‘pracma’\n",
            "\n",
            "\n",
            "The following objects are masked from ‘package:rootSolve’:\n",
            "\n",
            "    gradient, hessian\n",
            "\n",
            "\n",
            "The following objects are masked from ‘package:expm’:\n",
            "\n",
            "    expm, logm, sqrtm\n",
            "\n",
            "\n",
            "The following objects are masked from ‘package:Matrix’:\n",
            "\n",
            "    expm, lu, tril, triu\n",
            "\n",
            "\n",
            "\n",
            "Attaching package: ‘numDeriv’\n",
            "\n",
            "\n",
            "The following objects are masked from ‘package:pracma’:\n",
            "\n",
            "    grad, hessian, jacobian\n",
            "\n",
            "\n",
            "The following object is masked from ‘package:rootSolve’:\n",
            "\n",
            "    hessian\n",
            "\n",
            "\n"
          ]
        },
        {
          "output_type": "stream",
          "name": "stdout",
          "text": [
            "exp(x * y) * y - exp(x)\n",
            "exp(x * y) * x\n"
          ]
        },
        {
          "output_type": "display_data",
          "data": {
            "text/plain": [
              "$root\n",
              "[1] 0 1\n",
              "\n",
              "$f.root\n",
              "           f1            f2 \n",
              "-1.110223e-16  0.000000e+00 \n",
              "\n",
              "$iter\n",
              "[1] 3\n",
              "\n",
              "$estim.precis\n",
              "[1] 5.551115e-17\n"
            ],
            "text/latex": "\\begin{description}\n\\item[\\$root] \\begin{enumerate*}\n\\item 0\n\\item 1\n\\end{enumerate*}\n\n\\item[\\$f.root] \\begin{description*}\n\\item[f1] -1.11022302462516e-16\n\\item[f2] 0\n\\end{description*}\n\n\\item[\\$iter] 3\n\\item[\\$estim.precis] 5.55111512312578e-17\n\\end{description}\n",
            "text/markdown": "$root\n:   1. 0\n2. 1\n\n\n\n$f.root\n:   f1\n:   -1.11022302462516e-16f2\n:   0\n\n\n$iter\n:   3\n$estim.precis\n:   5.55111512312578e-17\n\n\n",
            "text/html": [
              "<dl>\n",
              "\t<dt>$root</dt>\n",
              "\t\t<dd><style>\n",
              ".list-inline {list-style: none; margin:0; padding: 0}\n",
              ".list-inline>li {display: inline-block}\n",
              ".list-inline>li:not(:last-child)::after {content: \"\\00b7\"; padding: 0 .5ex}\n",
              "</style>\n",
              "<ol class=list-inline><li>0</li><li>1</li></ol>\n",
              "</dd>\n",
              "\t<dt>$f.root</dt>\n",
              "\t\t<dd><style>\n",
              ".dl-inline {width: auto; margin:0; padding: 0}\n",
              ".dl-inline>dt, .dl-inline>dd {float: none; width: auto; display: inline-block}\n",
              ".dl-inline>dt::after {content: \":\\0020\"; padding-right: .5ex}\n",
              ".dl-inline>dt:not(:first-of-type) {padding-left: .5ex}\n",
              "</style><dl class=dl-inline><dt>f1</dt><dd>-1.11022302462516e-16</dd><dt>f2</dt><dd>0</dd></dl>\n",
              "</dd>\n",
              "\t<dt>$iter</dt>\n",
              "\t\t<dd>3</dd>\n",
              "\t<dt>$estim.precis</dt>\n",
              "\t\t<dd>5.55111512312578e-17</dd>\n",
              "</dl>\n"
            ]
          },
          "metadata": {}
        },
        {
          "output_type": "stream",
          "name": "stdout",
          "text": [
            "[1] \"grad : \"\n"
          ]
        },
        {
          "output_type": "display_data",
          "data": {
            "text/plain": [
              "[1] 0 0"
            ],
            "text/latex": "\\begin{enumerate*}\n\\item 0\n\\item 0\n\\end{enumerate*}\n",
            "text/markdown": "1. 0\n2. 0\n\n\n",
            "text/html": [
              "<style>\n",
              ".list-inline {list-style: none; margin:0; padding: 0}\n",
              ".list-inline>li {display: inline-block}\n",
              ".list-inline>li:not(:last-child)::after {content: \"\\00b7\"; padding: 0 .5ex}\n",
              "</style>\n",
              "<ol class=list-inline><li>0</li><li>0</li></ol>\n"
            ]
          },
          "metadata": {}
        },
        {
          "output_type": "stream",
          "name": "stdout",
          "text": [
            "[1] \"Hess : \"\n"
          ]
        },
        {
          "output_type": "display_data",
          "data": {
            "text/plain": [
              "     [,1] [,2]\n",
              "[1,] 15   1   \n",
              "[2,]  1   0   "
            ],
            "text/latex": "A matrix: 2 × 2 of type dbl\n\\begin{tabular}{ll}\n\t 15 & 1\\\\\n\t  1 & 0\\\\\n\\end{tabular}\n",
            "text/markdown": "\nA matrix: 2 × 2 of type dbl\n\n| 15 | 1 |\n|  1 | 0 |\n\n",
            "text/html": [
              "<table class=\"dataframe\">\n",
              "<caption>A matrix: 2 × 2 of type dbl</caption>\n",
              "<tbody>\n",
              "\t<tr><td>15</td><td>1</td></tr>\n",
              "\t<tr><td> 1</td><td>0</td></tr>\n",
              "</tbody>\n",
              "</table>\n"
            ]
          },
          "metadata": {}
        },
        {
          "output_type": "display_data",
          "data": {
            "text/plain": [
              "eigen() decomposition\n",
              "$values\n",
              "[1]  6.963022  0.000000 -4.244741\n",
              "\n",
              "$vectors\n",
              "          [,1] [,2]       [,3]\n",
              "[1,] 0.6154122    0 -0.7882054\n",
              "[2,] 0.7882054    0  0.6154122\n",
              "[3,] 0.0000000    1  0.0000000\n"
            ]
          },
          "metadata": {}
        }
      ]
    },
    {
      "cell_type": "code",
      "source": [
        "g<- function(x,y) {\n",
        "  \n",
        "  rez <- (exp(x*y) - (exp(x)) + 2)\n",
        "  rez\n",
        "}\n",
        "\n",
        "\n",
        "\n",
        "x <- seq(-4, 4, length= 3)\n",
        "y <- x\n",
        "z <- outer(x, y, g)\n",
        "z[is.na(z)] <- 1\n",
        "op <- par(bg = \"black\")\n",
        "persp(x, y, z, theta = 30, phi = 30, expand = 0.5, col = \"gray\")"
      ],
      "metadata": {
        "colab": {
          "base_uri": "https://localhost:8080/",
          "height": 437
        },
        "id": "anrhBuPc8Fsa",
        "outputId": "65303f44-4768-40b4-e5eb-fedafd17dc8a"
      },
      "execution_count": 12,
      "outputs": [
        {
          "output_type": "display_data",
          "data": {
            "image/png": "[encoded data removed]",
            "text/plain": [
              "plot without title"
            ]
          },
          "metadata": {
            "image/png": {
              "width": 420,
              "height": 420
            }
          }
        }
      ]
    },
    {
      "cell_type": "code",
      "source": [
        "#2\n",
        "f = expression((x+z^2)*exp(x*(y^2 + z^2 +1)))\n",
        "\n",
        "x1 = D(f,'x')\n",
        "x2 = D(f,'y')\n",
        "x3 = D(f,'z')\n",
        "\n",
        "print(x1)\n",
        "print(x2)\n",
        "print(x3)\n",
        "\n",
        "model=function(x){ \n",
        "    f1=exp(x[1] * (x[2]^2 + x[3]^2 + 1)) + (x[1] + x[3]^2) * (exp(x[1] * (x[2]^2 + x[3]^2 + 1)) * (x[2]^2 + x[3]^2 + 1))\n",
        "    f2=(x[1] + x[3]^2) * (exp(x[1] * (x[2]^2 + x[3]^2 + 1)) * (x[1] * (2 * x[2])))\n",
        "    f3=2 * x[3] * exp(x[1] * (x[2]^2 + x[3]^2 + 1)) + (x[1] + x[3]^2) * (exp(x[1] * (x[2]^2 + x[3]^2 + 1)) * (x[1] * (2 * x[3])))\n",
        "    c(f1=f1,f2=f2, f3=f3)\n",
        "} \n",
        "solution=multiroot(f=model, start=c(-1,0,0))\n",
        "solution\n",
        "\n",
        "#On a des valeurs décimales étranges, pas sûr du coup, ainsi que d'autres points en -1,0,0\n",
        "\n",
        "f<- function(x) {\n",
        "  z <- x[1]; \n",
        "  y <- x[2];\n",
        "  w <- x[3]\n",
        "  rez <- (z+w^2)*exp(z*(y^2 + w^2 +1))\n",
        "  rez\n",
        "}\n",
        "\n",
        "print(\"grad : \")\n",
        "grad(f , c(-1,0,0)) #En 1,1,1, grad pas nul, mais en 0, si\n",
        "\n",
        "hessian(f, c(-1,0,0))\n",
        "\n",
        "eigen(hessian(f, c(-1,0,0)))\n",
        "#(Mais si ce sont les bonnes valeurs, on a un point col)\n",
        "# -1,0,0 est un minimum"
      ],
      "metadata": {
        "colab": {
          "base_uri": "https://localhost:8080/",
          "height": 573
        },
        "id": "OSpzef8OLVK-",
        "outputId": "31d2439a-f3dd-4d96-ab8f-8b955224cbc3"
      },
      "execution_count": 13,
      "outputs": [
        {
          "output_type": "stream",
          "name": "stdout",
          "text": [
            "exp(x * (y^2 + z^2 + 1)) + (x + z^2) * (exp(x * (y^2 + z^2 + \n",
            "    1)) * (y^2 + z^2 + 1))\n",
            "(x + z^2) * (exp(x * (y^2 + z^2 + 1)) * (x * (2 * y)))\n",
            "2 * z * exp(x * (y^2 + z^2 + 1)) + (x + z^2) * (exp(x * (y^2 + \n",
            "    z^2 + 1)) * (x * (2 * z)))\n"
          ]
        },
        {
          "output_type": "display_data",
          "data": {
            "text/plain": [
              "$root\n",
              "[1] -1  0  0\n",
              "\n",
              "$f.root\n",
              "f1 f2 f3 \n",
              " 0  0  0 \n",
              "\n",
              "$iter\n",
              "[1] 1\n",
              "\n",
              "$estim.precis\n",
              "[1] 0\n"
            ],
            "text/latex": "\\begin{description}\n\\item[\\$root] \\begin{enumerate*}\n\\item -1\n\\item 0\n\\item 0\n\\end{enumerate*}\n\n\\item[\\$f.root] \\begin{description*}\n\\item[f1] 0\n\\item[f2] 0\n\\item[f3] 0\n\\end{description*}\n\n\\item[\\$iter] 1\n\\item[\\$estim.precis] 0\n\\end{description}\n",
            "text/markdown": "$root\n:   1. -1\n2. 0\n3. 0\n\n\n\n$f.root\n:   f1\n:   0f2\n:   0f3\n:   0\n\n\n$iter\n:   1\n$estim.precis\n:   0\n\n\n",
            "text/html": [
              "<dl>\n",
              "\t<dt>$root</dt>\n",
              "\t\t<dd><style>\n",
              ".list-inline {list-style: none; margin:0; padding: 0}\n",
              ".list-inline>li {display: inline-block}\n",
              ".list-inline>li:not(:last-child)::after {content: \"\\00b7\"; padding: 0 .5ex}\n",
              "</style>\n",
              "<ol class=list-inline><li>-1</li><li>0</li><li>0</li></ol>\n",
              "</dd>\n",
              "\t<dt>$f.root</dt>\n",
              "\t\t<dd><style>\n",
              ".dl-inline {width: auto; margin:0; padding: 0}\n",
              ".dl-inline>dt, .dl-inline>dd {float: none; width: auto; display: inline-block}\n",
              ".dl-inline>dt::after {content: \":\\0020\"; padding-right: .5ex}\n",
              ".dl-inline>dt:not(:first-of-type) {padding-left: .5ex}\n",
              "</style><dl class=dl-inline><dt>f1</dt><dd>0</dd><dt>f2</dt><dd>0</dd><dt>f3</dt><dd>0</dd></dl>\n",
              "</dd>\n",
              "\t<dt>$iter</dt>\n",
              "\t\t<dd>1</dd>\n",
              "\t<dt>$estim.precis</dt>\n",
              "\t\t<dd>0</dd>\n",
              "</dl>\n"
            ]
          },
          "metadata": {}
        },
        {
          "output_type": "stream",
          "name": "stdout",
          "text": [
            "[1] \"grad : \"\n"
          ]
        },
        {
          "output_type": "display_data",
          "data": {
            "text/plain": [
              "[1] 1.202742e-12 0.000000e+00 0.000000e+00"
            ],
            "text/latex": "\\begin{enumerate*}\n\\item 1.20274161001059e-12\n\\item 0\n\\item 0\n\\end{enumerate*}\n",
            "text/markdown": "1. 1.20274161001059e-12\n2. 0\n3. 0\n\n\n",
            "text/html": [
              "<style>\n",
              ".list-inline {list-style: none; margin:0; padding: 0}\n",
              ".list-inline>li {display: inline-block}\n",
              ".list-inline>li:not(:last-child)::after {content: \"\\00b7\"; padding: 0 .5ex}\n",
              "</style>\n",
              "<ol class=list-inline><li>1.20274161001059e-12</li><li>0</li><li>0</li></ol>\n"
            ]
          },
          "metadata": {}
        },
        {
          "output_type": "display_data",
          "data": {
            "text/plain": [
              "     [,1]          [,2]          [,3]         \n",
              "[1,]  3.678794e-01 -3.131037e-10 -4.997338e-10\n",
              "[2,] -3.131037e-10  7.357582e-01  1.068694e-06\n",
              "[3,] -4.997338e-10  1.068694e-06  1.471517e+00"
            ],
            "text/latex": "A matrix: 3 × 3 of type dbl\n\\begin{tabular}{lll}\n\t  3.678794e-01 & -3.131037e-10 & -4.997338e-10\\\\\n\t -3.131037e-10 &  7.357582e-01 &  1.068694e-06\\\\\n\t -4.997338e-10 &  1.068694e-06 &  1.471517e+00\\\\\n\\end{tabular}\n",
            "text/markdown": "\nA matrix: 3 × 3 of type dbl\n\n|  3.678794e-01 | -3.131037e-10 | -4.997338e-10 |\n| -3.131037e-10 |  7.357582e-01 |  1.068694e-06 |\n| -4.997338e-10 |  1.068694e-06 |  1.471517e+00 |\n\n",
            "text/html": [
              "<table class=\"dataframe\">\n",
              "<caption>A matrix: 3 × 3 of type dbl</caption>\n",
              "<tbody>\n",
              "\t<tr><td> 3.678794e-01</td><td>-3.131037e-10</td><td>-4.997338e-10</td></tr>\n",
              "\t<tr><td>-3.131037e-10</td><td> 7.357582e-01</td><td> 1.068694e-06</td></tr>\n",
              "\t<tr><td>-4.997338e-10</td><td> 1.068694e-06</td><td> 1.471517e+00</td></tr>\n",
              "</tbody>\n",
              "</table>\n"
            ]
          },
          "metadata": {}
        },
        {
          "output_type": "display_data",
          "data": {
            "text/plain": [
              "eigen() decomposition\n",
              "$values\n",
              "[1] 1.4715175 0.7357582 0.3678794\n",
              "\n",
              "$vectors\n",
              "              [,1]          [,2]         [,3]\n",
              "[1,]  4.528063e-10  8.511035e-10 1.000000e+00\n",
              "[2,] -1.452506e-06 -1.000000e+00 8.511041e-10\n",
              "[3,] -1.000000e+00  1.452506e-06 4.528051e-10\n"
            ]
          },
          "metadata": {}
        }
      ]
    },
    {
      "cell_type": "code",
      "source": [
        "#3\n",
        "f = expression(log(x*y*z) - log(x) *log(y)* log(z))\n",
        "\n",
        "x1 = D(f,'x')\n",
        "x2 = D(f,'y')\n",
        "x3 = D(f,'z')\n",
        "\n",
        "print(x1)\n",
        "print(x2)\n",
        "print(x3)\n",
        "\n",
        "model=function(x){ \n",
        "    f1=x[2] * x[3]/(x[1] * x[2] * x[3]) - 1/x[1] * log(x[2]) * log(x[3])\n",
        "    f2=x[1] * x[3]/(x[1] * x[2] * x[3]) - log(x[1]) * (1/x[2]) * log(x[3])\n",
        "    f3=x[1] * x[2]/(x[1] * x[2] * x[3]) - log(x[1]) * log(x[2]) * (1/x[3])\n",
        "    c(f1=f1,f2=f2, f3=f3)\n",
        "} \n",
        "\n",
        "solution=multiroot(f=model, start=c(1,1,1))\n",
        "print(solution)\n",
        "\n",
        "#On a des solutions, qui sont les mêmes, et Approximent exp, et -exp\n",
        "\n",
        "f<- function(x) {\n",
        "  z <- x[1]; \n",
        "  y <- x[2];\n",
        "  w <- x[3]\n",
        "  rez <- log(z*y*w) - log(z) *log(y)* log(w)\n",
        "  rez\n",
        "}\n",
        "\n",
        "print(\"grad : \")\n",
        "grad(f , c(1,1,1))\n",
        "\n",
        "hessian(f, c(1,1,1))\n",
        "\n",
        "print(\"valeurs propres :\" )\n",
        "eigen(hessian(f, c(1,1,1)))\n",
        "#exp est un maximum, et -exp un minimum"
      ],
      "metadata": {
        "colab": {
          "base_uri": "https://localhost:8080/",
          "height": 615
        },
        "id": "d1bklUnbgXI-",
        "outputId": "d8e5c664-e819-4a74-c74e-96406ce73e9e"
      },
      "execution_count": 14,
      "outputs": [
        {
          "output_type": "stream",
          "name": "stdout",
          "text": [
            "y * z/(x * y * z) - 1/x * log(y) * log(z)\n",
            "x * z/(x * y * z) - log(x) * (1/y) * log(z)\n",
            "x * y/(x * y * z) - log(x) * log(y) * (1/z)\n",
            "$root\n",
            "[1] 2.718282 2.718282 2.718282\n",
            "\n",
            "$f.root\n",
            "          f1           f2           f3 \n",
            "1.816385e-10 1.818116e-10 1.819002e-10 \n",
            "\n",
            "$iter\n",
            "[1] 6\n",
            "\n",
            "$estim.precis\n",
            "[1] 1.817834e-10\n",
            "\n",
            "[1] \"grad : \"\n"
          ]
        },
        {
          "output_type": "display_data",
          "data": {
            "text/plain": [
              "[1] 1 1 1"
            ],
            "text/latex": "\\begin{enumerate*}\n\\item 0.999999999996715\n\\item 0.999999999996715\n\\item 0.999999999996715\n\\end{enumerate*}\n",
            "text/markdown": "1. 0.999999999996715\n2. 0.999999999996715\n3. 0.999999999996715\n\n\n",
            "text/html": [
              "<style>\n",
              ".list-inline {list-style: none; margin:0; padding: 0}\n",
              ".list-inline>li {display: inline-block}\n",
              ".list-inline>li:not(:last-child)::after {content: \"\\00b7\"; padding: 0 .5ex}\n",
              "</style>\n",
              "<ol class=list-inline><li>0.999999999996715</li><li>0.999999999996715</li><li>0.999999999996715</li></ol>\n"
            ]
          },
          "metadata": {}
        },
        {
          "output_type": "display_data",
          "data": {
            "text/plain": [
              "     [,1]          [,2]          [,3]         \n",
              "[1,] -1.000000e+00  1.768879e-13  1.768879e-13\n",
              "[2,]  1.768879e-13 -1.000000e+00  1.768879e-13\n",
              "[3,]  1.768879e-13  1.768879e-13 -1.000000e+00"
            ],
            "text/latex": "A matrix: 3 × 3 of type dbl\n\\begin{tabular}{lll}\n\t -1.000000e+00 &  1.768879e-13 &  1.768879e-13\\\\\n\t  1.768879e-13 & -1.000000e+00 &  1.768879e-13\\\\\n\t  1.768879e-13 &  1.768879e-13 & -1.000000e+00\\\\\n\\end{tabular}\n",
            "text/markdown": "\nA matrix: 3 × 3 of type dbl\n\n| -1.000000e+00 |  1.768879e-13 |  1.768879e-13 |\n|  1.768879e-13 | -1.000000e+00 |  1.768879e-13 |\n|  1.768879e-13 |  1.768879e-13 | -1.000000e+00 |\n\n",
            "text/html": [
              "<table class=\"dataframe\">\n",
              "<caption>A matrix: 3 × 3 of type dbl</caption>\n",
              "<tbody>\n",
              "\t<tr><td>-1.000000e+00</td><td> 1.768879e-13</td><td> 1.768879e-13</td></tr>\n",
              "\t<tr><td> 1.768879e-13</td><td>-1.000000e+00</td><td> 1.768879e-13</td></tr>\n",
              "\t<tr><td> 1.768879e-13</td><td> 1.768879e-13</td><td>-1.000000e+00</td></tr>\n",
              "</tbody>\n",
              "</table>\n"
            ]
          },
          "metadata": {}
        },
        {
          "output_type": "stream",
          "name": "stdout",
          "text": [
            "[1] \"valeurs propres :\"\n"
          ]
        },
        {
          "output_type": "display_data",
          "data": {
            "text/plain": [
              "eigen() decomposition\n",
              "$values\n",
              "[1] -1 -1 -1\n",
              "\n",
              "$vectors\n",
              "           [,1]       [,2]       [,3]\n",
              "[1,] -0.5771300  0.8166523  0.0000000\n",
              "[2,] -0.5774603 -0.4080926 -0.7071068\n",
              "[3,] -0.5774603 -0.4080926  0.7071068\n"
            ]
          },
          "metadata": {}
        }
      ]
    },
    {
      "cell_type": "code",
      "source": [
        "help(optim)"
      ],
      "metadata": {
        "id": "beDkhWcfOTyg"
      },
      "execution_count": null,
      "outputs": []
    },
    {
      "cell_type": "markdown",
      "source": [
        "**Exercice 3**\n",
        "<a name=\"e3\"></a>\n",
        "\n",
        "[To Summary](#Summary)"
      ],
      "metadata": {
        "id": "g0zZdjwuRgTk"
      }
    },
    {
      "cell_type": "code",
      "source": [
        "#1-\n",
        "f = expression(x * y)\n",
        "g = expression(x - y + 6)\n",
        " \n",
        "#dfx = D(f, 'x')\n",
        "\n",
        "#On veut vérifier la régularité de la courbe de contrainte.\n",
        "print(D(g,'x'))\n",
        "print(D(g,'y'))\n",
        "#On aurait donc les égalités 1 = 0, ou -1 = 0. Le système n'a pas de solutions.\n",
        "\n",
        "#Lagrangien - Par manque de temps, l'opération est faite à la main, sorry !\n",
        "\n",
        "L = expression (x*y - b*(x-y+6))\n",
        "x1 = D(L,'x')\n",
        "x2 = D(L,'y')\n",
        "x3 = D(L,'b')\n",
        "print(x1)\n",
        "print(x2)\n",
        "print(x3)\n"
      ],
      "metadata": {
        "id": "nfiA0Jm0IILs"
      },
      "execution_count": null,
      "outputs": []
    },
    {
      "cell_type": "code",
      "source": [
        "#On va donc vouloir résoudre un système\n",
        "A = matrix(c(0,1,-1,1,0,1,-1,1,0),3,3)\n",
        "print(det(A))\n",
        "t = c(0,0,6)\n",
        "A\n",
        "solve(A,t)\n"
      ],
      "metadata": {
        "id": "06jCl08YYmLq"
      },
      "execution_count": null,
      "outputs": []
    },
    {
      "cell_type": "code",
      "source": [
        "#Le lagrangien n'a qu'un seul point critique (-3,3,3)\n",
        "#Place au calcul de la matrice hessienne :'(\n",
        "h1 = D(D(L,'x'),'x')\n",
        "h2 = D(D(L,'y'),'x')\n",
        "h3 = D(D(L,'x'),'y')\n",
        "h4 = D(D(L,'y'),'y')\n",
        "print(h1)\n",
        "print(h2)\n",
        "print(h3)\n",
        "print(h4)\n",
        "H = matrix(c(h1,h2,h3,h4),2,2)\n",
        "H\n",
        "\n",
        "#Avec H Définie positive, on en déduit qu'on a un minimum en -3, 3"
      ],
      "metadata": {
        "id": "rCMDah6hQcPS"
      },
      "execution_count": null,
      "outputs": []
    },
    {
      "cell_type": "code",
      "source": [
        "\n",
        "g<- function(x,y) {\n",
        "  \n",
        "  rez <- (x * y)\n",
        "  rez\n",
        "}\n",
        "h<- function(x,y) {\n",
        "  \n",
        "  rez <- (x - y + 6)\n",
        "  rez\n",
        "}\n",
        "\n",
        "\n",
        "x <- seq(-16, 16, length= 3)\n",
        "y <- x\n",
        "z <- outer(x, y, g)\n",
        "z[is.na(z)] <- 1\n",
        "op <- par(bg = \"blue\")\n",
        "persp(x, y, z, theta = 30, phi = 30, expand = 0.5, col = \"red\")\n",
        "x <- seq(-16, 16, length= 3)\n",
        "y <- x\n",
        "z <- outer(x, y, h)\n",
        "z[is.na(z)] <- 1\n",
        "persp(x, y, z, theta = 30, phi = 30, expand = 0.5, col = \"white\")"
      ],
      "metadata": {
        "id": "NUwjaynvEL4D"
      },
      "execution_count": null,
      "outputs": []
    },
    {
      "cell_type": "code",
      "source": [
        "###Add plot"
      ],
      "metadata": {
        "id": "e2kgwpRS6wRI"
      },
      "execution_count": null,
      "outputs": []
    },
    {
      "cell_type": "code",
      "source": [
        "#2 \n",
        "f = expression(x^2 + y^2 + z^2)\n",
        "g = expression(x + y + z - 1)\n",
        "h = expression(z)\n",
        " \n",
        "#dfx = D(f, 'x')\n",
        "\n",
        "#On veut vérifier la régularité de la courbe de contrainte.\n",
        "print(D(g,'x'))\n",
        "print(D(g,'y'))\n",
        "print(D(g,'z'))\n",
        "#On aurait donc les égalités 1 = 0. Le système n'a pas de solutions.\n",
        "\n",
        "#Lagrangien - Par manque de temps, l'opération est faite à la main, sorry !\n",
        "\n",
        "L = expression ((x^2 + y^2 + z^2) - b*(x + y + z - 1) - c*z)\n",
        "x1 = D(L,'x')\n",
        "x2 = D(L,'y')\n",
        "x3 = D(L,'z')\n",
        "x4 = D(L,'b')\n",
        "x5 = D(L,'b')\n",
        "\n",
        "print(x1)\n",
        "print(x2)\n",
        "print(x3)\n",
        "print(x4)\n",
        "print(x5)\n",
        "\n",
        "model=function(x){ \n",
        "    f1= 2 * x[1] - x[4]\n",
        "    f2= 2 * x[2] - x[4]\n",
        "    f3= 2 * x[3] - x[4] - x[5]\n",
        "    f4= -(x[1] + x[2] + x[3] - 1)\n",
        "    f5= -(x[1] + x[2] + x[3] - 1)\n",
        "    c(f1=f1,f2=f2, f3=f3, f4 = f4, f5 = f5)\n",
        "} \n",
        "solution=multiroot(f=model, start=c(1,1,1,1,1))\n",
        "solution\n",
        "\n",
        "\n",
        "\n",
        "f<- function(x) {\n",
        "  z <- x[1]; \n",
        "  y <- x[2];\n",
        "  w <- x[3];\n",
        "  b <- x[4];\n",
        "  c <- x[5]\n",
        "  rez <- (z^2 + y^2 + w^2) - b*(z + y + w - 1) - c*w\n",
        "  rez\n",
        "}\n",
        "\n",
        "print(\"grad : \")\n",
        "grad(f , c(0,0,0,1,1))\n",
        "\n",
        "hessian(f, c(1,1,1,1,1))\n",
        "\n",
        "eigen(hessian(f, c(1,1,1,1,1)))\n",
        "\n",
        "\n",
        "#Pas défini positif, time for some pain"
      ],
      "metadata": {
        "id": "C2QJ96DJ0M3N"
      },
      "execution_count": null,
      "outputs": []
    },
    {
      "cell_type": "code",
      "source": [
        "#3\n",
        "f = expression(x^2 + y^2 + z^2)\n",
        "g = expression(x^2 + y^2 + 2*z - 6)\n",
        "h = expression(x-y-z)\n",
        " \n",
        "#dfx = D(f, 'x')\n",
        "\n",
        "#On veut vérifier la régularité de la courbe de contrainte.\n",
        "print(D(g,'x'))\n",
        "print(D(g,'y'))\n",
        "print(D(g,'z'))\n",
        "#On aurait donc les égalités 1 = 0. Le système n'a pas de solutions.\n",
        "\n",
        "#Lagrangien - Par manque de temps, l'opération est faite à la main, sorry !\n",
        "\n",
        "L = expression ((x^2 + y^2 + z^2) - b*(x^2 + y^2 + 2*z - 6) - c*(x-y-z))\n",
        "x1 = D(L,'x')\n",
        "x2 = D(L,'y')\n",
        "x3 = D(L,'z')\n",
        "x4 = D(L,'b')\n",
        "x5 = D(L,'b')\n",
        "\n",
        "print(x1)\n",
        "print(x2)\n",
        "print(x3)\n",
        "print(x4)\n",
        "print(x5)\n",
        "\n",
        "model=function(x){ \n",
        "    f1= 2 * x[1] - x[4] * (2 * x[1]) - x[5]\n",
        "    f2= 2 * x[2] - x[4] * (2 * x[2]) + x[5]\n",
        "    f3= 2 * x[3] - x[4] * 2 + x[5]\n",
        "    f4= -(x[1]^2 + x[2]^2 + 2 * x[3] - 6)\n",
        "    f5= -(x[1]^2 + x[2]^2 + 2 * x[3] - 6)\n",
        "    c(f1=f1,f2=f2, f3=f3, f4 = f4, f5 = f5)\n",
        "} \n",
        "solution=multiroot(f=model, start=c(0,0,1,0,0))\n",
        "solution\n",
        "\n",
        "#Valeur en 1,1,1\n",
        "\n",
        "f<- function(x) {\n",
        "  z <- x[1]; \n",
        "  y <- x[2];\n",
        "  w <- x[3];\n",
        "  b <- x[4];\n",
        "  c <- x[5]\n",
        "  rez <- (z^2 + y^2 + w^2) - b*(z^2 + y^2 + 2*w - 6) - c*(z-y-w)\n",
        "  rez\n",
        "}\n",
        "\n",
        "print(\"grad : \")\n",
        "grad(f , c(1,1,1,1,1))\n",
        "\n",
        "hessian(f, c(1,1,1,1,1))\n",
        "\n",
        "eigen(hessian(f, c(1,1,1,1,1)))\n",
        "\n",
        "\n",
        "#Pas défini positif, time for some pain"
      ],
      "metadata": {
        "id": "NG99XVi10x1K"
      },
      "execution_count": null,
      "outputs": []
    },
    {
      "cell_type": "code",
      "source": [
        "#4\n",
        "f = expression(x^2 * y)\n",
        "g = expression(2 * x^2 + y^2 -3)\n",
        "\n",
        " \n",
        "#dfx = D(f, 'x')\n",
        "\n",
        "#On veut vérifier la régularité de la courbe de contrainte.\n",
        "print(D(g,'x'))\n",
        "print(D(g,'y'))\n",
        "print(D(g,'z'))\n",
        "#On aurait donc les égalités 1 = 0. Le système n'a pas de solutions.\n",
        "\n",
        "#Lagrangien - Par manque de temps, l'opération est faite à la main, sorry !\n",
        "\n",
        "L = expression ((x^2 * y) - b*(2 * x^2 + y^2 -3))\n",
        "x1 = D(L,'x')\n",
        "x2 = D(L,'y')\n",
        "\n",
        "x3 = D(L,'b')\n",
        "\n",
        "\n",
        "print(x1)\n",
        "print(x2)\n",
        "print(x3)\n",
        "\n",
        "\n",
        "model=function(x){ \n",
        "    f1= 2 * x[1] * x[2] - x[3] * (2 * (2 * x[1]))\n",
        "    f2= x[1]^2 - x[3] * (2 * x[2])\n",
        "    f3= -(2 * x[1]^2 + x[2]^2 - 3)\n",
        "\n",
        "    c(f1=f1,f2=f2, f3=f3)\n",
        "} \n",
        "solution=multiroot(f=model, start=c(1,1,1))\n",
        "solution\n",
        "\n",
        "#Valeur en -1,1\n",
        "\n",
        "f<- function(x) {\n",
        "  z <- x[1]; \n",
        "  y <- x[2];\n",
        "  b <- x[3]\n",
        "\n",
        "  rez <- (z^2 * y) - b*(2 * z^2 + y^2 -3)\n",
        "  rez\n",
        "}\n",
        "\n",
        "print(\"grad : \")\n",
        "grad(f , c(1,1,1))\n",
        "\n",
        "hessian(f, c(1,1,1))\n",
        "\n",
        "eigen(hessian(f, c(1,1,1)))\n",
        "\n",
        "\n",
        "#Pas défini positif, je me demande si vous êtes sadique, ou si j'ai une erreur de process :D\n",
        "#Mais selon internet, on a un min en (-inf, 18), et max en (-inf,1), donc en dehors des intervalles (pour global)"
      ],
      "metadata": {
        "id": "vPX1c9bP2Q0V"
      },
      "execution_count": null,
      "outputs": []
    },
    {
      "cell_type": "code",
      "source": [
        "\n",
        "g<- function(x,y) {\n",
        "  \n",
        "  rez <- (x^2 * y)\n",
        "  rez\n",
        "}\n",
        "h<- function(x,y) {\n",
        "  \n",
        "  rez <- (2 * x^2 + y^2 -3)\n",
        "  rez\n",
        "}\n",
        "\n",
        "\n",
        "x <- seq(-16, 16, length= 3)\n",
        "y <- x\n",
        "z <- outer(x, y, g)\n",
        "z[is.na(z)] <- 1\n",
        "op <- par(bg = \"blue\")\n",
        "persp(x, y, z, theta = 30, phi = 30, expand = 0.5, col = \"red\")\n",
        "x <- seq(-16, 16, length= 3)\n",
        "y <- x\n",
        "z <- outer(x, y, h)\n",
        "z[is.na(z)] <- 1\n",
        "persp(x, y, z, theta = 30, phi = 30, expand = 0.5, col = \"white\")"
      ],
      "metadata": {
        "id": "ziqUYx4XPLYJ"
      },
      "execution_count": null,
      "outputs": []
    },
    {
      "cell_type": "code",
      "source": [
        "#5\n",
        "f = expression((x^2 * y^2)/(x^2 + y^2) + 2*y^2 + 4*x*y + 5*x + 5*y + 20)\n",
        "g = expression(2*x^2 + 2*y^2 + 4*x*y - 8 - 3)\n",
        "\n",
        " \n",
        "#dfx = D(f, 'x')\n",
        "\n",
        "#On veut vérifier la régularité de la courbe de contrainte.\n",
        "print(D(g,'x'))\n",
        "print(D(g,'y'))\n",
        "print(D(g,'z'))\n",
        "#On aurait donc les égalités 0 = 0. Suspect, trop d'heures de sommeil de retard pour me questionner dessus\n",
        "#Lagrangien - Par manque de temps, l'opération est faite à la main, sorry !\n",
        "\n",
        "L = expression ((x^2 * y^2)/(x^2 + y^2) + 2*y^2 + 4*x*y + 5*x + 5*y + 20 - b*(2*x^2 + 2*y^2 + 4*x*y - 8 - 3))\n",
        "x1 = D(L,'x')\n",
        "x2 = D(L,'y')\n",
        "\n",
        "x3 = D(L,'b')\n",
        "\n",
        "\n",
        "print(x1)\n",
        "print(x2)\n",
        "print(x3)\n",
        "\n",
        "\n",
        "model=function(x){ \n",
        "    f1= 2 * x[1] * x[2]^2/(x[1]^2 + x[2]^2) - (x[1]^2 * x[2]^2) * (2 * x[1])/(x[1]^2 + x[2]^2)^2 + 4 * x[2] + 5 - x[3] * (2 * (2 * x[1]) + 4 * x[2])\n",
        "    f2= x[1]^2 * (2 * x[2])/(x[1]^2 + x[2]^2) - (x[1]^2 * x[2]^2) * (2 * x[2])/(x[1]^2 + x[2]^2)^2 + 2 * (2 * x[2]) + 4 * x[1] + 5 - x[3] * (2 * (2 * x[2]) + 4 * x[1])\n",
        "    f3= -(2 * x[1]^2 + 2 * x[2]^2 + 4 * x[1] * x[2] - 8 - 3)\n",
        "\n",
        "    c(f1=f1,f2=f2, f3=f3)\n",
        "} \n",
        "solution=multiroot(f=model, start=c(-1,1,0))\n",
        "solution\n",
        "\n",
        "#Valeur en -3, 3. . . Ca devient suspect, à inspecter\n",
        "\n",
        "f<- function(x) {\n",
        "  z <- x[1]; \n",
        "  y <- x[2];\n",
        "  b <- x[3]\n",
        "\n",
        "  rez <- (z^2 * y^2)/(z^2 + y^2) + 2*y^2 + 4*z*y + 5*z + 5*y + 20 - b*(2*z^2 + 2*y^2 + 4*z*y - 8 - 3)\n",
        "  rez\n",
        "}\n",
        "\n",
        "print(\"grad : \")\n",
        "grad(f , c(1,1,1,1,1))\n",
        "\n",
        "hessian(f, c(1,1,1,1,1))\n",
        "\n",
        "eigen(hessian(f, c(1,1,1,1,1)))\n",
        "\n",
        "\n",
        "#Pas défini positif, dommage !\n"
      ],
      "metadata": {
        "id": "0l9gOVls3nvl"
      },
      "execution_count": null,
      "outputs": []
    },
    {
      "cell_type": "code",
      "source": [
        "g<- function(x,y) {\n",
        "  \n",
        "  rez <- ((x^2 * y^2)/(x^2 + y^2) + 2*y^2 + 4*x*y + 5*x + 5*y + 20)\n",
        "  rez\n",
        "}\n",
        "h<- function(x,y) {\n",
        "  \n",
        "  rez <- (2*x^2 + 2*y^2 + 4*x*y - 8 - 3)\n",
        "  rez\n",
        "}\n",
        "\n",
        "\n",
        "x <- seq(-16, 16, length= 3)\n",
        "y <- x\n",
        "z <- outer(x, y, g)\n",
        "z[is.na(z)] <- 1\n",
        "op <- par(bg = \"blue\")\n",
        "persp(x, y, z, theta = 30, phi = 30, expand = 0.5, col = \"red\")\n",
        "x <- seq(-16, 16, length= 3)\n",
        "y <- x\n",
        "z <- outer(x, y, h)\n",
        "z[is.na(z)] <- 1\n",
        "persp(x, y, z, theta = 30, phi = 30, expand = 0.5, col = \"white\")"
      ],
      "metadata": {
        "id": "KcDlhPw7Pod1"
      },
      "execution_count": null,
      "outputs": []
    },
    {
      "cell_type": "code",
      "source": [
        "#On va donc vouloir résoudre un système\n",
        "A = matrix(c(2,0,0,-1,0,  0,2,0,-1,0,  0,0,2,-1,-1,  -1,-1,-1,0,0,  -1,-1,-1,0,0),5,5)\n",
        "#print(A)\n",
        "print(det(A))\n",
        "t = c(0,0,0,-1,-1)\n",
        "A\n",
        "solve(A,t)\n",
        "\n",
        "#Le lagrangien n'a qu'un seul point critique (-3,3,3)\n",
        "#Place au calcul de la matrice hessienne :'(\n",
        "h1 = D(D(L,'x'),'x')\n",
        "h2 = D(D(L,'y'),'x')\n",
        "h3 = D(D(L,'x'),'y')\n",
        "h4 = D(D(L,'y'),'y')\n",
        "print(h1)\n",
        "print(h2)\n",
        "print(h3)\n",
        "print(h4)\n",
        "H = matrix(c(h1,h2,h3,h4),2,2)\n",
        "H\n",
        "\n",
        "#Avec H Définie positive, on en déduit qu'on a un minimum en -3, 3"
      ],
      "metadata": {
        "id": "lzSzX9wmsuV-"
      },
      "execution_count": null,
      "outputs": []
    },
    {
      "cell_type": "code",
      "source": [
        "#On calcule le \"rt -s\"; qui dans ce cas, est un discriminant.\n",
        "res = h1*h4 - h2*h3\n",
        "res\n",
        "#res <0 -> f n'admet pas d'extrêmum local en A"
      ],
      "metadata": {
        "id": "2ngNHUq4vrIE"
      },
      "execution_count": null,
      "outputs": []
    },
    {
      "cell_type": "code",
      "source": [
        ""
      ],
      "metadata": {
        "id": "UFpxpQLxN1KI"
      },
      "execution_count": null,
      "outputs": []
    },
    {
      "cell_type": "code",
      "source": [
        "help(rgl)"
      ],
      "metadata": {
        "id": "hbFBbR1aOS3h"
      },
      "execution_count": null,
      "outputs": []
    },
    {
      "cell_type": "code",
      "source": [
        "#install.packages(\"pracma\")\n",
        "library(pracma)\n",
        "\n",
        "#install.packages(\"numDeriv\")\n",
        "library(numDeriv)\n",
        "\n",
        "f<- function(x) {\n",
        "  z <- x[1]; \n",
        "  y <- x[2]\n",
        "  rez <- (z*y)\n",
        "  rez\n",
        "}\n",
        "\n",
        "\n",
        "grad(f, c(0,1))\n",
        "\n",
        "hessian(f, c(0,1))"
      ],
      "metadata": {
        "id": "sdfWNOOlO0Xd"
      },
      "execution_count": null,
      "outputs": []
    },
    {
      "cell_type": "code",
      "source": [
        "#Exercice 7\n",
        "#install.packages(\"corrplot\")\n",
        "#install.packages(\"FactoMineR\")\n",
        "library(dplyr)\n",
        "library(corrplot)\n",
        "library(FactoMineR)\n",
        "donnees<-read.csv(file='data.csv', sep=\";\")\n",
        "donnees2 <- donnees[,-1]\n",
        "rownames(donnees2) <- donnees[,1]\n",
        "donnees2\n",
        "\n",
        "\n",
        "#1\n",
        "#Matrice de corrélation\n",
        "data_corr <- select(donnees2)\n",
        "data_corr%>%mutate_each(as.numeric)\n",
        "mcor<- cor(data_corr)\n",
        "corrplot(mcor, method = \"circle\") #plot matrix\n",
        "\n",
        "\n",
        "#2\n",
        "#les variables c1998 à c2004 sont particulièrement corrélées entre elles\n",
        "#les variables i1998 à i2004 sont plutôt corrélées entre elles\n",
        "#les variables cXXXX et iXXXX ne sont pas corrélées entre elles\n",
        "#nous allons garder 7 axes qui correspondent au taux de chômage sur les années : c1998 à c2004\n",
        "\n",
        "#3\n",
        "#nous utilisons deux axes principaux avec une inertie totale de 98.17%\n",
        "data<-as.data.frame(select(donnees2, c1998:c2004))\n",
        "res<-PCA(data)\n",
        "plot.PCA(res, axes=c(1, 2), choix=\"ind\")\n",
        "summary(res)\n",
        "\n",
        "#4\n",
        "#les variables déterminant les 2 premières composantes principales sont c1998 et c2004,\n",
        "#qui peuvent nous permettre d'apprécier l'évolution globale du taux de chômage.\n",
        "#elles ont globalement la même contribution aux deux dimensions\n",
        "\n",
        "\n",
        "#5 : cercle de corrélation des variables\n",
        "plot(res, choix=\"var\")\n",
        "#on remarque que toutes les variables sont corrélées entre elles de manière très proche\n",
        "\n",
        "#6\n",
        "#on peut interpreter les mesures d'entrée de l'évolution du taux de chômage pour chaque individu\n",
        "\n",
        "#7\n",
        "plot(res, choix=\"ind\")\n",
        "#les individus qui déterminent les deux premiers axes principaux seraient le Luxembourg et l'Espagne,\n",
        "#extrémités du jeu de données"
      ],
      "metadata": {
        "id": "te9YglbujbH0"
      },
      "execution_count": null,
      "outputs": []
    }
  ]
}